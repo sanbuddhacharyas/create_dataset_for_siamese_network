{
 "cells": [
  {
   "cell_type": "code",
   "execution_count": 1,
   "id": "d9a6b723",
   "metadata": {},
   "outputs": [],
   "source": [
    "from glob import glob\n",
    "import os\n",
    "import cv2\n",
    "import matplotlib.pyplot as plt"
   ]
  },
  {
   "cell_type": "code",
   "execution_count": 4,
   "id": "e5180230",
   "metadata": {},
   "outputs": [
    {
     "name": "stdout",
     "output_type": "stream",
     "text": [
      "1\n"
     ]
    }
   ],
   "source": [
    "dataset_name = './test_dataset'\n",
    "with open(f'{dataset_name}/dataset_sim.txt', 'r') as f:\n",
    "    dataset_sim = [i.replace('\\n','') for i in f.readlines()]\n",
    "    \n",
    "print(len(dataset_sim))"
   ]
  },
  {
   "cell_type": "code",
   "execution_count": 3,
   "id": "6eba6ec0",
   "metadata": {},
   "outputs": [
    {
     "name": "stdout",
     "output_type": "stream",
     "text": [
      "19\n"
     ]
    }
   ],
   "source": [
    "total_file = len(dataset_sim)\n",
    "start = 0\n",
    "try:\n",
    "    with open(f'{dataset_name}/recheck_logs.txt', 'r') as f:\n",
    "        start = int(f.readlines()[0])\n",
    "        print(start)\n",
    "except:\n",
    "    start=0\n",
    "    \n",
    "\n",
    "    \n",
    "while start < total_file:\n",
    "    start += 1\n",
    "    row         = dataset_sim[start-1]\n",
    "    splited_row = row.split('|')\n",
    "    print(os.path.join(dataset_name,splited_row[1]), os.path.join(dataset_name,splited_row[2]))\n",
    "    video_img   = cv2.resize(cv2.imread(os.path.join(dataset_name,splited_row[1])), (256, 256))\n",
    "    ads_img     = cv2.resize(cv2.imread(os.path.join(dataset_name,splited_row[2])), (256, 256))\n",
    "\n",
    "    concat      = cv2.hconcat([ads_img, video_img])\n",
    "    concat      = cv2.resize(concat, (600, 700))\n",
    "    if splited_row[0]=='1':\n",
    "        cv2.putText(concat,'Sim',  org=(300, 20),fontFace=cv2.FONT_HERSHEY_SIMPLEX, fontScale=1, thickness=3, color=(0 ,255, 0))\n",
    "\n",
    "    else:\n",
    "        cv2.putText(concat,'Dis',  org=(300, 20), fontFace=cv2.FONT_HERSHEY_SIMPLEX, fontScale=1,thickness=3, color=(0 ,0, 255))\n",
    "\n",
    "    per = \"{:.2f}\".format((start/total_file)*100)\n",
    "    title = f\"{start} / {total_file}    |  Percentage==>{per} %\"\n",
    "    cv2.imshow(title, cv2.resize(concat, (600, 700)))\n",
    "    c = cv2.waitKey(0)\n",
    "\n",
    "    if  c==115: #'s' 'similar'\n",
    "        start -= 1\n",
    "        row = dataset_sim[start]\n",
    "        splited_row = row.split('|')\n",
    "        if splited_row[0]=='1':\n",
    "            splited_row[0]='0'\n",
    "\n",
    "        elif splited_row[0]=='0':\n",
    "            splited_row[0]='1'\n",
    "\n",
    "        row = '|'.join(splited_row)\n",
    "        dataset_sim[start] = row\n",
    "        with open(f'{dataset_name}/dataset_sim.txt', 'w') as f:\n",
    "            f.write('\\n'.join(dataset_sim))\n",
    "\n",
    "    elif c==100:#'d' dissimilar\n",
    "        pass\n",
    "\n",
    "\n",
    "    elif c==97:#'a'\n",
    "       start -= 2\n",
    "\n",
    "\n",
    "    elif c==113:#'q'\n",
    "        cv2.destroyAllWindows()\n",
    "        assert(False)\n",
    "        break\n",
    "    cv2.destroyAllWindows()\n",
    "    with open(f'{dataset_name}/recheck_logs.txt', 'w') as f:\n",
    "        f.write(str(start))\n",
    "        \n",
    "    "
   ]
  },
  {
   "cell_type": "code",
   "execution_count": null,
   "id": "d5d7d35f",
   "metadata": {},
   "outputs": [],
   "source": []
  },
  {
   "cell_type": "code",
   "execution_count": null,
   "id": "7f7ec1e3",
   "metadata": {},
   "outputs": [],
   "source": []
  }
 ],
 "metadata": {
  "kernelspec": {
   "display_name": "Python 3 (ipykernel)",
   "language": "python",
   "name": "python3"
  },
  "language_info": {
   "codemirror_mode": {
    "name": "ipython",
    "version": 3
   },
   "file_extension": ".py",
   "mimetype": "text/x-python",
   "name": "python",
   "nbconvert_exporter": "python",
   "pygments_lexer": "ipython3",
   "version": "3.7.11"
  }
 },
 "nbformat": 4,
 "nbformat_minor": 5
}
